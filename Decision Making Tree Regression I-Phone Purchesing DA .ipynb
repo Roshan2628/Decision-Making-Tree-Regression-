{
 "cells": [
  {
   "cell_type": "markdown",
   "id": "687ebdf4-1c39-4b39-9ecf-b2c5f08c6951",
   "metadata": {},
   "source": [
    "# Python Decision Making Tree Regression I-Phone Purchasing Data"
   ]
  },
  {
   "cell_type": "markdown",
   "id": "5fa0bcd1-f618-4757-ac6e-5ed9d03bc9bc",
   "metadata": {},
   "source": [
    "# Python Decision Making Tree Regression I-Phone Purchasing Data"
   ]
  },
  {
   "cell_type": "code",
   "execution_count": 3,
   "id": "d10a9a5e-1784-4046-9612-b6c29baa732d",
   "metadata": {},
   "outputs": [],
   "source": [
    "# Firstly We Have to IMPORT the Libraries -\n",
    "import pandas as pd\n",
    "import seaborn as sns\n",
    "import matplotlib.pyplot as plt\n",
    "from sklearn.linear_model import LogisticRegression\n",
    "from sklearn.metrics import accuracy_score,confusion_matrix\n",
    "from sklearn.model_selection import train_test_split\n",
    "from sklearn.tree import DecisionTreeClassifier"
   ]
  },
  {
   "cell_type": "code",
   "execution_count": 4,
   "id": "ef5252a6-82b1-4809-9158-ec4c30a18350",
   "metadata": {},
   "outputs": [
    {
     "data": {
      "text/html": [
       "<div>\n",
       "<style scoped>\n",
       "    .dataframe tbody tr th:only-of-type {\n",
       "        vertical-align: middle;\n",
       "    }\n",
       "\n",
       "    .dataframe tbody tr th {\n",
       "        vertical-align: top;\n",
       "    }\n",
       "\n",
       "    .dataframe thead th {\n",
       "        text-align: right;\n",
       "    }\n",
       "</style>\n",
       "<table border=\"1\" class=\"dataframe\">\n",
       "  <thead>\n",
       "    <tr style=\"text-align: right;\">\n",
       "      <th></th>\n",
       "      <th>Gender</th>\n",
       "      <th>Age</th>\n",
       "      <th>Salary</th>\n",
       "      <th>Purchase Iphone</th>\n",
       "    </tr>\n",
       "  </thead>\n",
       "  <tbody>\n",
       "    <tr>\n",
       "      <th>0</th>\n",
       "      <td>Male</td>\n",
       "      <td>19</td>\n",
       "      <td>19000</td>\n",
       "      <td>0</td>\n",
       "    </tr>\n",
       "    <tr>\n",
       "      <th>1</th>\n",
       "      <td>Male</td>\n",
       "      <td>35</td>\n",
       "      <td>20000</td>\n",
       "      <td>0</td>\n",
       "    </tr>\n",
       "  </tbody>\n",
       "</table>\n",
       "</div>"
      ],
      "text/plain": [
       "  Gender  Age  Salary  Purchase Iphone\n",
       "0   Male   19   19000                0\n",
       "1   Male   35   20000                0"
      ]
     },
     "execution_count": 4,
     "metadata": {},
     "output_type": "execute_result"
    }
   ],
   "source": [
    "# Importing the Data from our system - \n",
    "data = pd.read_csv('D:/Top Mentor/Classes Details/4th May/Files/Decision Tree  - Assignment -4/iphone_purchase_records.csv')\n",
    "data.head(2)"
   ]
  },
  {
   "cell_type": "code",
   "execution_count": 5,
   "id": "d9f3f1d1-8d84-497b-91b9-e942e6e405ba",
   "metadata": {},
   "outputs": [
    {
     "name": "stdout",
     "output_type": "stream",
     "text": [
      "  Gender  Age  Salary  Purchase Iphone\n",
      "0   Male   19   19000                0\n",
      "1   Male   35   20000                0\n"
     ]
    }
   ],
   "source": [
    "## Firstly We have to copy this data as our data keep safe - \n",
    "df = data.copy()\n",
    "print(df.head(2))"
   ]
  },
  {
   "cell_type": "code",
   "execution_count": 6,
   "id": "ed184380-99bd-4b6a-83b1-824e7fd9660e",
   "metadata": {},
   "outputs": [
    {
     "name": "stdout",
     "output_type": "stream",
     "text": [
      "DataSet Information -\n",
      "               Age         Salary  Purchase Iphone\n",
      "count  400.000000     400.000000       400.000000\n",
      "mean    37.655000   69742.500000         0.357500\n",
      "std     10.482877   34096.960282         0.479864\n",
      "min     18.000000   15000.000000         0.000000\n",
      "25%     29.750000   43000.000000         0.000000\n",
      "50%     37.000000   70000.000000         0.000000\n",
      "75%     46.000000   88000.000000         1.000000\n",
      "max     60.000000  150000.000000         1.000000\n"
     ]
    }
   ],
   "source": [
    "## Reading data & Checking basic features of data - \n",
    "print('DataSet Information -\\n',df.describe())"
   ]
  },
  {
   "cell_type": "code",
   "execution_count": 7,
   "id": "3d2e63f0-a882-432a-a420-b8f0830167ee",
   "metadata": {},
   "outputs": [
    {
     "name": "stdout",
     "output_type": "stream",
     "text": [
      "<class 'pandas.core.frame.DataFrame'>\n",
      "RangeIndex: 400 entries, 0 to 399\n",
      "Data columns (total 4 columns):\n",
      " #   Column           Non-Null Count  Dtype \n",
      "---  ------           --------------  ----- \n",
      " 0   Gender           400 non-null    object\n",
      " 1   Age              400 non-null    int64 \n",
      " 2   Salary           400 non-null    int64 \n",
      " 3   Purchase Iphone  400 non-null    int64 \n",
      "dtypes: int64(3), object(1)\n",
      "memory usage: 12.6+ KB\n"
     ]
    },
    {
     "data": {
      "text/plain": [
       "Gender             0\n",
       "Age                0\n",
       "Salary             0\n",
       "Purchase Iphone    0\n",
       "dtype: int64"
      ]
     },
     "execution_count": 7,
     "metadata": {},
     "output_type": "execute_result"
    }
   ],
   "source": [
    "#  Checking Data Information \n",
    "df.info()\n",
    "# Checking Null Value -\n",
    "df.isnull().sum()"
   ]
  },
  {
   "cell_type": "code",
   "execution_count": 8,
   "id": "97c22f43-bc19-4276-be96-e611d79288f6",
   "metadata": {},
   "outputs": [
    {
     "name": "stdout",
     "output_type": "stream",
     "text": [
      "no of columns -  Index(['Gender', 'Age', 'Salary', 'Purchase Iphone'], dtype='object')\n",
      "no of shapes -  (400, 4)\n",
      "no of lenght -  400\n"
     ]
    }
   ],
   "source": [
    "##Checking Data Parameter :-\n",
    "print('no of columns - ' , df.columns)\n",
    "print('no of shapes - ' , df.shape)\n",
    "print('no of lenght - ' , len(df))"
   ]
  },
  {
   "cell_type": "code",
   "execution_count": 9,
   "id": "0335809b-0791-4678-9608-704a63b34fd0",
   "metadata": {},
   "outputs": [],
   "source": [
    "## The dataset contains 400 entries and 4 columns:\n",
    "\n",
    "# Gender: Categorical feature indicating the gender of the individual.\n",
    "# Age: Numeric feature representing the age of the individual.\n",
    "# Salary: Numeric feature representing the salary of the individual.\n",
    "# Purchase Iphone: Target variable, where 0 indicates no purchase, and 1 indicates a purchase."
   ]
  },
  {
   "cell_type": "code",
   "execution_count": 10,
   "id": "599deb32-ba75-42a1-a5e2-f62a86a9525a",
   "metadata": {},
   "outputs": [],
   "source": [
    "### Now we are encoding the gender column as Male = 1 & Female = 0"
   ]
  },
  {
   "cell_type": "code",
   "execution_count": 11,
   "id": "a0498dc1-b9ab-4083-855f-4a9c86022e50",
   "metadata": {},
   "outputs": [],
   "source": [
    "from sklearn.preprocessing import LabelEncoder\n",
    "label_encoder = LabelEncoder()"
   ]
  },
  {
   "cell_type": "code",
   "execution_count": 12,
   "id": "7ac55f8a-acd5-4c47-a2f5-fd79ddb2dad9",
   "metadata": {},
   "outputs": [
    {
     "name": "stdout",
     "output_type": "stream",
     "text": [
      "Index(['Gender', 'Age', 'Salary', 'Purchase Iphone'], dtype='object')\n"
     ]
    }
   ],
   "source": [
    "print(df.columns)"
   ]
  },
  {
   "cell_type": "code",
   "execution_count": 13,
   "id": "104d6bfb-eed4-44c7-bba8-06c59be412f6",
   "metadata": {},
   "outputs": [],
   "source": [
    "df['Gender'] = label_encoder.fit_transform(df['Gender'])"
   ]
  },
  {
   "cell_type": "code",
   "execution_count": 14,
   "id": "078f35ae-0ce4-4aea-bc4a-28460a17ef5b",
   "metadata": {},
   "outputs": [
    {
     "data": {
      "text/html": [
       "<div>\n",
       "<style scoped>\n",
       "    .dataframe tbody tr th:only-of-type {\n",
       "        vertical-align: middle;\n",
       "    }\n",
       "\n",
       "    .dataframe tbody tr th {\n",
       "        vertical-align: top;\n",
       "    }\n",
       "\n",
       "    .dataframe thead th {\n",
       "        text-align: right;\n",
       "    }\n",
       "</style>\n",
       "<table border=\"1\" class=\"dataframe\">\n",
       "  <thead>\n",
       "    <tr style=\"text-align: right;\">\n",
       "      <th></th>\n",
       "      <th>Gender</th>\n",
       "      <th>Age</th>\n",
       "      <th>Salary</th>\n",
       "      <th>Purchase Iphone</th>\n",
       "    </tr>\n",
       "  </thead>\n",
       "  <tbody>\n",
       "    <tr>\n",
       "      <th>0</th>\n",
       "      <td>1</td>\n",
       "      <td>19</td>\n",
       "      <td>19000</td>\n",
       "      <td>0</td>\n",
       "    </tr>\n",
       "    <tr>\n",
       "      <th>1</th>\n",
       "      <td>1</td>\n",
       "      <td>35</td>\n",
       "      <td>20000</td>\n",
       "      <td>0</td>\n",
       "    </tr>\n",
       "    <tr>\n",
       "      <th>2</th>\n",
       "      <td>0</td>\n",
       "      <td>26</td>\n",
       "      <td>43000</td>\n",
       "      <td>0</td>\n",
       "    </tr>\n",
       "    <tr>\n",
       "      <th>3</th>\n",
       "      <td>0</td>\n",
       "      <td>27</td>\n",
       "      <td>57000</td>\n",
       "      <td>0</td>\n",
       "    </tr>\n",
       "    <tr>\n",
       "      <th>4</th>\n",
       "      <td>1</td>\n",
       "      <td>19</td>\n",
       "      <td>76000</td>\n",
       "      <td>0</td>\n",
       "    </tr>\n",
       "  </tbody>\n",
       "</table>\n",
       "</div>"
      ],
      "text/plain": [
       "   Gender  Age  Salary  Purchase Iphone\n",
       "0       1   19   19000                0\n",
       "1       1   35   20000                0\n",
       "2       0   26   43000                0\n",
       "3       0   27   57000                0\n",
       "4       1   19   76000                0"
      ]
     },
     "execution_count": 14,
     "metadata": {},
     "output_type": "execute_result"
    }
   ],
   "source": [
    "df.head()"
   ]
  },
  {
   "cell_type": "code",
   "execution_count": 15,
   "id": "3261b3b7-6ce8-4be5-b464-6d7636cdc65b",
   "metadata": {},
   "outputs": [
    {
     "name": "stdout",
     "output_type": "stream",
     "text": [
      "[1 0]\n"
     ]
    }
   ],
   "source": [
    "print(df['Gender'].unique())"
   ]
  },
  {
   "cell_type": "code",
   "execution_count": 16,
   "id": "ea077fa4-02e0-4de8-9b41-9f454f21133d",
   "metadata": {},
   "outputs": [],
   "source": [
    "## Now we starting the training & Testing for data - y-(  0 No  - 1-Yes)\n",
    "X = df[['Gender','Age','Salary']]\n",
    "y =df['Purchase Iphone'] "
   ]
  },
  {
   "cell_type": "code",
   "execution_count": 17,
   "id": "edc7aaad-83c7-4c96-a88a-c849fc731b53",
   "metadata": {},
   "outputs": [
    {
     "data": {
      "text/html": [
       "<div>\n",
       "<style scoped>\n",
       "    .dataframe tbody tr th:only-of-type {\n",
       "        vertical-align: middle;\n",
       "    }\n",
       "\n",
       "    .dataframe tbody tr th {\n",
       "        vertical-align: top;\n",
       "    }\n",
       "\n",
       "    .dataframe thead th {\n",
       "        text-align: right;\n",
       "    }\n",
       "</style>\n",
       "<table border=\"1\" class=\"dataframe\">\n",
       "  <thead>\n",
       "    <tr style=\"text-align: right;\">\n",
       "      <th></th>\n",
       "      <th>Gender</th>\n",
       "      <th>Age</th>\n",
       "      <th>Salary</th>\n",
       "    </tr>\n",
       "  </thead>\n",
       "  <tbody>\n",
       "    <tr>\n",
       "      <th>0</th>\n",
       "      <td>1</td>\n",
       "      <td>19</td>\n",
       "      <td>19000</td>\n",
       "    </tr>\n",
       "    <tr>\n",
       "      <th>1</th>\n",
       "      <td>1</td>\n",
       "      <td>35</td>\n",
       "      <td>20000</td>\n",
       "    </tr>\n",
       "    <tr>\n",
       "      <th>2</th>\n",
       "      <td>0</td>\n",
       "      <td>26</td>\n",
       "      <td>43000</td>\n",
       "    </tr>\n",
       "    <tr>\n",
       "      <th>3</th>\n",
       "      <td>0</td>\n",
       "      <td>27</td>\n",
       "      <td>57000</td>\n",
       "    </tr>\n",
       "    <tr>\n",
       "      <th>4</th>\n",
       "      <td>1</td>\n",
       "      <td>19</td>\n",
       "      <td>76000</td>\n",
       "    </tr>\n",
       "  </tbody>\n",
       "</table>\n",
       "</div>"
      ],
      "text/plain": [
       "   Gender  Age  Salary\n",
       "0       1   19   19000\n",
       "1       1   35   20000\n",
       "2       0   26   43000\n",
       "3       0   27   57000\n",
       "4       1   19   76000"
      ]
     },
     "execution_count": 17,
     "metadata": {},
     "output_type": "execute_result"
    }
   ],
   "source": [
    "X.head()"
   ]
  },
  {
   "cell_type": "code",
   "execution_count": 18,
   "id": "cdbdb8d2-1942-4a96-8c51-2b9c8b821af1",
   "metadata": {},
   "outputs": [
    {
     "data": {
      "text/plain": [
       "0    0\n",
       "1    0\n",
       "2    0\n",
       "3    0\n",
       "4    0\n",
       "Name: Purchase Iphone, dtype: int64"
      ]
     },
     "execution_count": 18,
     "metadata": {},
     "output_type": "execute_result"
    }
   ],
   "source": [
    "y.head()"
   ]
  },
  {
   "cell_type": "code",
   "execution_count": 24,
   "id": "1b9cce61-cccd-4f73-b9d5-74996fd3baaf",
   "metadata": {},
   "outputs": [],
   "source": [
    "X_train , X_test , y_train ,y_test =train_test_split(X,y,test_size=0.2 ,random_state=1234)"
   ]
  },
  {
   "cell_type": "code",
   "execution_count": 25,
   "id": "5d8d6fc2-43f4-4ba6-b555-f953456f5646",
   "metadata": {},
   "outputs": [
    {
     "data": {
      "text/plain": [
       "((320, 3), (320,))"
      ]
     },
     "execution_count": 25,
     "metadata": {},
     "output_type": "execute_result"
    }
   ],
   "source": [
    "X_train.shape , y_train.shape"
   ]
  },
  {
   "cell_type": "code",
   "execution_count": 26,
   "id": "9f093cf0-a14e-4b45-82e4-553e1ba4bd66",
   "metadata": {},
   "outputs": [
    {
     "data": {
      "text/plain": [
       "((80, 3), (80,))"
      ]
     },
     "execution_count": 26,
     "metadata": {},
     "output_type": "execute_result"
    }
   ],
   "source": [
    "X_test.shape , y_test.shape"
   ]
  },
  {
   "cell_type": "code",
   "execution_count": 27,
   "id": "e8024c43-474d-4ee7-a290-f49ca30db973",
   "metadata": {},
   "outputs": [
    {
     "name": "stdout",
     "output_type": "stream",
     "text": [
      "The accuracy of Decision Tree -  85.0 %\n"
     ]
    }
   ],
   "source": [
    "model = DecisionTreeClassifier(criterion='gini') #### gini (binary classes) / entropy (multiclass)\n",
    "model_train = model.fit(X_train, y_train)\n",
    "pred = model_train.predict(X_test)\n",
    "results = accuracy_score(y_test,pred)*100\n",
    "print(\"The accuracy of Decision Tree - \", results, \"%\")"
   ]
  },
  {
   "cell_type": "code",
   "execution_count": 28,
   "id": "40664de5-a80b-49bd-be16-f8b2da26f566",
   "metadata": {},
   "outputs": [
    {
     "name": "stdout",
     "output_type": "stream",
     "text": [
      "The accuracy of Decision Tree -  81.25 %\n"
     ]
    }
   ],
   "source": [
    "model = DecisionTreeClassifier(criterion='entropy') #### gini (binary classes) / entropy (multiclass)\n",
    "model_train = model.fit(X_train, y_train)\n",
    "pred = model_train.predict(X_test)\n",
    "results = accuracy_score(y_test,pred)*100\n",
    "print(\"The accuracy of Decision Tree - \", results, \"%\")"
   ]
  },
  {
   "cell_type": "code",
   "execution_count": 29,
   "id": "8d05eae8-76e2-438a-945f-918c38d5a399",
   "metadata": {},
   "outputs": [
    {
     "data": {
      "text/plain": [
       "array([0.03299248, 0.49867024, 0.46833728])"
      ]
     },
     "execution_count": 29,
     "metadata": {},
     "output_type": "execute_result"
    }
   ],
   "source": [
    "model.feature_importances_"
   ]
  },
  {
   "cell_type": "code",
   "execution_count": 32,
   "id": "fa88312d-0271-405b-ad1b-8b384d36ffa5",
   "metadata": {},
   "outputs": [
    {
     "data": {
      "text/plain": [
       "<Axes: >"
      ]
     },
     "execution_count": 32,
     "metadata": {},
     "output_type": "execute_result"
    },
    {
     "data": {
      "image/png": "[encoded data removed]",
      "text/plain": [
       "<Figure size 300x300 with 1 Axes>"
      ]
     },
     "metadata": {},
     "output_type": "display_data"
    }
   ],
   "source": [
    "plt.figure(figsize=(3,3))\n",
    "feat_importances = pd.Series(model.feature_importances_, index = X.columns)\n",
    "feat_importances.plot(kind = 'barh')"
   ]
  },
  {
   "cell_type": "code",
   "execution_count": 31,
   "id": "de12f337-563d-48a0-88b8-fd25aed4ff51",
   "metadata": {},
   "outputs": [
    {
     "data": {
      "text/plain": [
       "Gender    0.032992\n",
       "Age       0.498670\n",
       "Salary    0.468337\n",
       "dtype: float64"
      ]
     },
     "execution_count": 31,
     "metadata": {},
     "output_type": "execute_result"
    }
   ],
   "source": [
    "feat_importances"
   ]
  },
  {
   "cell_type": "code",
   "execution_count": null,
   "id": "cb3c3705-7d90-4dd6-ad9c-4a1b41b43820",
   "metadata": {},
   "outputs": [],
   "source": []
  }
 ],
 "metadata": {
  "kernelspec": {
   "display_name": "Python 3 (ipykernel)",
   "language": "python",
   "name": "python3"
  },
  "language_info": {
   "codemirror_mode": {
    "name": "ipython",
    "version": 3
   },
   "file_extension": ".py",
   "mimetype": "text/x-python",
   "name": "python",
   "nbconvert_exporter": "python",
   "pygments_lexer": "ipython3",
   "version": "3.11.7"
  }
 },
 "nbformat": 4,
 "nbformat_minor": 5
}
